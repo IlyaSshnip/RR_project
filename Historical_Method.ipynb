{
  "nbformat": 4,
  "nbformat_minor": 0,
  "metadata": {
    "colab": {
      "provenance": []
    },
    "kernelspec": {
      "name": "python3",
      "display_name": "Python 3"
    },
    "language_info": {
      "name": "python"
    }
  },
  "cells": [
    {
      "cell_type": "code",
      "execution_count": 14,
      "metadata": {
        "colab": {
          "base_uri": "https://localhost:8080/"
        },
        "id": "j1IzM8lwoB0t",
        "outputId": "ad48611c-7b58-4f44-b054-03292d9b8912"
      },
      "outputs": [
        {
          "output_type": "stream",
          "name": "stdout",
          "text": [
            "-0.05909134098893224\n",
            "-0.01018134035361281\n",
            "-0.0539410558184035\n",
            "0.04974048442906574\n",
            "0.09083044982698962\n",
            "0.04930795847750865\n"
          ]
        }
      ],
      "source": [
        "# Function to calculate historical VaR\n",
        "def calculate_var(data, confidence_level=0.95):\n",
        "    return data.quantile(1 - confidence_level)\n",
        "\n",
        "# Function to estimate the accuracy of VaR\n",
        "def estimate_var_accuracy(test_data, var):\n",
        "    below_var = (test_data < var).mean()  # Proportion of test data that is below the VaR\n",
        "    return below_var\n",
        "\n",
        "train_btc = pd.read_csv('/content/sample_data/train_btc.csv')\n",
        "test_btc = pd.read_csv('/content/sample_data/test_btc.csv')\n",
        "train_sp500 = pd.read_csv('/content/sample_data/train_sp500.csv')\n",
        "test_sp500 = pd.read_csv('/content/sample_data/test_sp500.csv')\n",
        "train_treasury = pd.read_csv('/content/sample_data/train_treasury.csv')\n",
        "test_treasury = pd.read_csv('/content/sample_data/test_treasury.csv')\n",
        "\n",
        "# Calculate VaR for each asset using the training datasets\n",
        "var_btc = calculate_var(train_btc['BTC_Log_Return'])\n",
        "var_sp500 = calculate_var(train_sp500['SP500_Log_Return'])\n",
        "var_treasury = calculate_var(train_treasury['TMUBMUSD01Y_Log_Return'])\n",
        "\n",
        "\n",
        "print(var_btc)\n",
        "print(var_sp500)\n",
        "print(var_treasury)\n",
        "print(accuracy_btc)\n",
        "print(accuracy_sp500)\n",
        "print(accuracy_treasury)\n"
      ]
    }
  ]
}