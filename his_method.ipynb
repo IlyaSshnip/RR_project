{
 "cells": [
  {
   "cell_type": "code",
   "execution_count": 2,
   "metadata": {},
   "outputs": [],
   "source": [
    "import pandas as pd\n",
    "\n",
    "# Load the dataset\n",
    "file_path = \"C:/Users/Yuqin/Desktop/combined_returns.csv\"\n",
    "data = pd.read_csv(file_path)"
   ]
  },
  {
   "cell_type": "code",
   "execution_count": 3,
   "metadata": {},
   "outputs": [
    {
     "name": "stdout",
     "output_type": "stream",
     "text": [
      "1-Day VaR at 95% confidence level:\n",
      "SP500_Return         -0.016463\n",
      "BTC_Return           -0.060279\n",
      "TMUBMUSD01Y_Return   -0.069144\n",
      "Name: 0.050000000000000044, dtype: float64\n",
      "\n",
      "10-Day VaR at 95% confidence level:\n",
      "SP500_Return         -0.047215\n",
      "BTC_Return           -0.174815\n",
      "TMUBMUSD01Y_Return   -0.178771\n",
      "Name: 0.050000000000000044, dtype: float64\n",
      "\n",
      "Exceedances for 1-day VaR:\n",
      "SP500_Return          125\n",
      "BTC_Return            125\n",
      "TMUBMUSD01Y_Return    125\n",
      "dtype: int64\n",
      "\n",
      "Exceedances for 10-day VaR:\n",
      "SP500_Return          125\n",
      "BTC_Return            125\n",
      "TMUBMUSD01Y_Return    125\n",
      "dtype: int64\n"
     ]
    }
   ],
   "source": [
    "# Confidence level for VaR\n",
    "confidence_level = 0.95\n",
    "\n",
    "# Calculate the 1-day VaR at the 95% confidence level\n",
    "VaR_1_day = data.quantile(1 - confidence_level)\n",
    "\n",
    "# Calculate 10-day rolling returns\n",
    "rolling_returns_10d = data.rolling(window=10).sum().dropna()\n",
    "\n",
    "# Calculate the 10-day VaR at the 95% confidence level\n",
    "VaR_10_day = rolling_returns_10d.quantile(1 - confidence_level)\n",
    "\n",
    "# Count exceedances for 1-day VaR\n",
    "exceedances_1_day = (data < VaR_1_day).sum()\n",
    "\n",
    "# Count exceedances for 10-day VaR\n",
    "exceedances_10_day = (rolling_returns_10d < VaR_10_day).sum()\n",
    "\n",
    "# Print the results\n",
    "print(\"1-Day VaR at 95% confidence level:\")\n",
    "print(VaR_1_day)\n",
    "print(\"\\n10-Day VaR at 95% confidence level:\")\n",
    "print(VaR_10_day)\n",
    "print(\"\\nExceedances for 1-day VaR:\")\n",
    "print(exceedances_1_day)\n",
    "print(\"\\nExceedances for 10-day VaR:\")\n",
    "print(exceedances_10_day)"
   ]
  },
  {
   "cell_type": "markdown",
   "metadata": {},
   "source": []
  }
 ],
 "metadata": {
  "kernelspec": {
   "display_name": "Python 3",
   "language": "python",
   "name": "python3"
  },
  "language_info": {
   "codemirror_mode": {
    "name": "ipython",
    "version": 3
   },
   "file_extension": ".py",
   "mimetype": "text/x-python",
   "name": "python",
   "nbconvert_exporter": "python",
   "pygments_lexer": "ipython3",
   "version": "3.11.4"
  }
 },
 "nbformat": 4,
 "nbformat_minor": 2
}
